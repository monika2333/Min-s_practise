{
 "cells": [
  {
   "cell_type": "code",
   "execution_count": 5,
   "id": "d46e9a1e",
   "metadata": {},
   "outputs": [],
   "source": [
    "#20231207\n",
    "#计算方差（by GPT4）\n",
    "\n",
    "#题目：掷一个骰子，一共有六个面，计算这一过程的方差\n",
    "\n",
    "#可能的点数\n",
    "values = [1, 2, 3, 4, 5, 6]\n",
    "\n",
    "#计算期望值E(X)\n",
    "E_X = sum(values) / len(values)\n",
    "\n",
    "#计算E(X^2)\n",
    "E_X2 = sum([x**2 for x in values]) / len(values)\n",
    "\n",
    "#计算方差\n",
    "variance = E_X2 - E_X**2"
   ]
  },
  {
   "cell_type": "code",
   "execution_count": 6,
   "id": "9dbfb1e7",
   "metadata": {},
   "outputs": [
    {
     "name": "stdout",
     "output_type": "stream",
     "text": [
      "E(X)= 3.5\n"
     ]
    }
   ],
   "source": [
    "print(\"E(X)=\",E_X)"
   ]
  },
  {
   "cell_type": "code",
   "execution_count": 7,
   "id": "1ee45b19",
   "metadata": {},
   "outputs": [
    {
     "name": "stdout",
     "output_type": "stream",
     "text": [
      "E(X^2)= 15.166666666666666\n"
     ]
    }
   ],
   "source": [
    "print(\"E(X^2)=\",E_X2)"
   ]
  },
  {
   "cell_type": "code",
   "execution_count": 8,
   "id": "43f1bb1d",
   "metadata": {},
   "outputs": [
    {
     "name": "stdout",
     "output_type": "stream",
     "text": [
      "Var(X) = E(X^2) - E(X)^2 =  2.916666666666666\n"
     ]
    }
   ],
   "source": [
    "print(\"Var(X) = E(X^2) - E(X)^2 = \", variance)"
   ]
  }
 ],
 "metadata": {
  "kernelspec": {
   "display_name": "Python 3 (ipykernel)",
   "language": "python",
   "name": "python3"
  },
  "language_info": {
   "codemirror_mode": {
    "name": "ipython",
    "version": 3
   },
   "file_extension": ".py",
   "mimetype": "text/x-python",
   "name": "python",
   "nbconvert_exporter": "python",
   "pygments_lexer": "ipython3",
   "version": "3.11.4"
  }
 },
 "nbformat": 4,
 "nbformat_minor": 5
}
