{
 "cells": [
  {
   "cell_type": "markdown",
   "id": "4861ad4b-e98e-4ac1-b038-9f8ebb01a90c",
   "metadata": {},
   "source": [
    "## 质数生成练习\n",
    "在李笑来的《自学是门手艺》中多次看到，一知半解，于是决定自己来练习一下\n",
    "\n",
    "目标是：\n",
    "- 能够不看参考写出质数代码，至少三种（有一点不同就可以）\n",
    "- 理解为什么遍历到根号n即可（这更多是一个数学问题）"
   ]
  },
  {
   "cell_type": "code",
   "execution_count": null,
   "id": "944fc2e0-43f1-4733-ac01-ca20c67a2eaa",
   "metadata": {},
   "outputs": [],
   "source": []
  },
  {
   "cell_type": "code",
   "execution_count": null,
   "id": "1c0bcd55-0759-4059-8102-67778b85b8ee",
   "metadata": {},
   "outputs": [],
   "source": []
  }
 ],
 "metadata": {
  "kernelspec": {
   "display_name": "Python 3 (ipykernel)",
   "language": "python",
   "name": "python3"
  },
  "language_info": {
   "codemirror_mode": {
    "name": "ipython",
    "version": 3
   },
   "file_extension": ".py",
   "mimetype": "text/x-python",
   "name": "python",
   "nbconvert_exporter": "python",
   "pygments_lexer": "ipython3",
   "version": "3.11.7"
  }
 },
 "nbformat": 4,
 "nbformat_minor": 5
}
